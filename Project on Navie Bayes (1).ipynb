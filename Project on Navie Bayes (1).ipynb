{
 "cells": [
  {
   "cell_type": "markdown",
   "id": "aecaa1cb",
   "metadata": {},
   "source": [
    "# Sentimental Analysis using Bernoulli and Multinomial Navie Bayes on ecommerce dataset "
   ]
  },
  {
   "cell_type": "code",
   "execution_count": 60,
   "id": "f6b79e31-c6fc-4818-a506-ca93f4cee640",
   "metadata": {},
   "outputs": [
    {
     "data": {
      "text/plain": [
       "<bound method NDFrame.head of         Category                                               Text\n",
       "0      Household  SAF 'Floral' Framed Painting (Wood, 30 inch x ...\n",
       "1      Household  SAF 'UV Textured Modern Art Print Framed' Pain...\n",
       "2      Household  SAF Flower Print Framed Painting (Synthetic, 1...\n",
       "3      Household  Incredible Gifts India Wooden Happy Birthday U...\n",
       "4      Household  Pitaara Box Romantic Venice Canvas Painting 6m...\n",
       "...          ...                                                ...\n",
       "44453        NaN                                                NaN\n",
       "44454        NaN                                                NaN\n",
       "44455        NaN                                                NaN\n",
       "44456        NaN                                                NaN\n",
       "44457        NaN                                                NaN\n",
       "\n",
       "[44458 rows x 2 columns]>"
      ]
     },
     "execution_count": 60,
     "metadata": {},
     "output_type": "execute_result"
    }
   ],
   "source": [
    "import pandas as pd\n",
    "df=pd.read_csv(\"ecommerceDataset.csv\")\n",
    "df.head"
   ]
  },
  {
   "cell_type": "code",
   "execution_count": 61,
   "id": "a707474e-8d26-4737-b5f9-8d8bf76cb319",
   "metadata": {},
   "outputs": [
    {
     "data": {
      "text/plain": [
       "(44458, 2)"
      ]
     },
     "execution_count": 61,
     "metadata": {},
     "output_type": "execute_result"
    }
   ],
   "source": [
    "df.shape"
   ]
  },
  {
   "cell_type": "code",
   "execution_count": 62,
   "id": "9375938f-3c6f-47c4-ba82-f816a8ace2d2",
   "metadata": {},
   "outputs": [
    {
     "data": {
      "text/plain": [
       "(499, 2)"
      ]
     },
     "execution_count": 62,
     "metadata": {},
     "output_type": "execute_result"
    }
   ],
   "source": [
    "df=df.dropna()\n",
    "df\n",
    "df.shape"
   ]
  },
  {
   "cell_type": "code",
   "execution_count": 63,
   "id": "d3045975-d7be-4124-b93a-562861c43737",
   "metadata": {},
   "outputs": [
    {
     "data": {
      "text/plain": [
       "0      SAF 'Floral' Framed Painting (Wood, 30 inch x ...\n",
       "1      SAF 'UV Textured Modern Art Print Framed' Pain...\n",
       "2      SAF Flower Print Framed Painting (Synthetic, 1...\n",
       "3      Incredible Gifts India Wooden Happy Birthday U...\n",
       "4      Pitaara Box Romantic Venice Canvas Painting 6m...\n",
       "                             ...                        \n",
       "494    Decdeal DIY Handmade Needlework Counted Cross ...\n",
       "495    Anchor Fly with Me Stitch Kit A range of over ...\n",
       "496    Decdeal Anself DIY Handmade Needlework Counted...\n",
       "497    Borosil Carafe with Strainer in Lid, 1.5 Litre...\n",
       "498    Global Home Microfiber Soft Korean Floral Embo...\n",
       "Name: Text, Length: 499, dtype: object"
      ]
     },
     "execution_count": 63,
     "metadata": {},
     "output_type": "execute_result"
    }
   ],
   "source": [
    "y=df.iloc[:,:-1]\n",
    "x=df.iloc[:,-1]\n",
    "x"
   ]
  },
  {
   "cell_type": "code",
   "execution_count": 64,
   "id": "1ec8b7f4-3035-4d99-9439-fe9c545db746",
   "metadata": {},
   "outputs": [
    {
     "data": {
      "text/html": [
       "<div>\n",
       "<style scoped>\n",
       "    .dataframe tbody tr th:only-of-type {\n",
       "        vertical-align: middle;\n",
       "    }\n",
       "\n",
       "    .dataframe tbody tr th {\n",
       "        vertical-align: top;\n",
       "    }\n",
       "\n",
       "    .dataframe thead th {\n",
       "        text-align: right;\n",
       "    }\n",
       "</style>\n",
       "<table border=\"1\" class=\"dataframe\">\n",
       "  <thead>\n",
       "    <tr style=\"text-align: right;\">\n",
       "      <th></th>\n",
       "      <th>Category</th>\n",
       "    </tr>\n",
       "  </thead>\n",
       "  <tbody>\n",
       "    <tr>\n",
       "      <th>0</th>\n",
       "      <td>Household</td>\n",
       "    </tr>\n",
       "    <tr>\n",
       "      <th>1</th>\n",
       "      <td>Household</td>\n",
       "    </tr>\n",
       "    <tr>\n",
       "      <th>2</th>\n",
       "      <td>Household</td>\n",
       "    </tr>\n",
       "    <tr>\n",
       "      <th>3</th>\n",
       "      <td>Household</td>\n",
       "    </tr>\n",
       "    <tr>\n",
       "      <th>4</th>\n",
       "      <td>Household</td>\n",
       "    </tr>\n",
       "    <tr>\n",
       "      <th>...</th>\n",
       "      <td>...</td>\n",
       "    </tr>\n",
       "    <tr>\n",
       "      <th>494</th>\n",
       "      <td>Electronics</td>\n",
       "    </tr>\n",
       "    <tr>\n",
       "      <th>495</th>\n",
       "      <td>Electronics</td>\n",
       "    </tr>\n",
       "    <tr>\n",
       "      <th>496</th>\n",
       "      <td>Electronics</td>\n",
       "    </tr>\n",
       "    <tr>\n",
       "      <th>497</th>\n",
       "      <td>Electronics</td>\n",
       "    </tr>\n",
       "    <tr>\n",
       "      <th>498</th>\n",
       "      <td>Electronics</td>\n",
       "    </tr>\n",
       "  </tbody>\n",
       "</table>\n",
       "<p>499 rows × 1 columns</p>\n",
       "</div>"
      ],
      "text/plain": [
       "        Category\n",
       "0      Household\n",
       "1      Household\n",
       "2      Household\n",
       "3      Household\n",
       "4      Household\n",
       "..           ...\n",
       "494  Electronics\n",
       "495  Electronics\n",
       "496  Electronics\n",
       "497  Electronics\n",
       "498  Electronics\n",
       "\n",
       "[499 rows x 1 columns]"
      ]
     },
     "execution_count": 64,
     "metadata": {},
     "output_type": "execute_result"
    }
   ],
   "source": [
    "y"
   ]
  },
  {
   "cell_type": "code",
   "execution_count": 65,
   "id": "c3bd6ed2",
   "metadata": {},
   "outputs": [],
   "source": [
    "#Custom Stop_words\n",
    "custom=[\"the\",\"is\",\"or\",\"this\",\"can\",\"that\",\",\",\".\",\"could\",\"do\",\"does\",\"x\"]"
   ]
  },
  {
   "cell_type": "code",
   "execution_count": 66,
   "id": "134308ba-d1d5-470f-ba4a-676f136d1036",
   "metadata": {},
   "outputs": [],
   "source": [
    "from sklearn.feature_extraction.text import CountVectorizer\n",
    "from sklearn.naive_bayes import BernoulliNB,MultinomialNB,GaussianNB\n",
    "vector1=CountVectorizer(binary=True,stop_words=\"english\")\n",
    "vector2=CountVectorizer(binary=False,stop_words=\"english\")\n",
    "vector3=CountVectorizer(binary=True,stop_words=custom)\n",
    "vector4=CountVectorizer(binary=False,stop_words=custom)"
   ]
  },
  {
   "cell_type": "code",
   "execution_count": 67,
   "id": "8bb33085-7d3a-4bb0-9246-23f07d3ae472",
   "metadata": {},
   "outputs": [],
   "source": [
    "x1=vector1.fit_transform(x)\n",
    "x2=vector2.fit_transform(x)\n",
    "x3=vector3.fit_transform(x)\n",
    "x4=vector4.fit_transform(x)"
   ]
  },
  {
   "cell_type": "code",
   "execution_count": 68,
   "id": "4a0f5d3d-937d-46a9-8441-2db63132893b",
   "metadata": {},
   "outputs": [],
   "source": [
    "from sklearn.model_selection import train_test_split\n",
    "xtrain1,xtest1,ytrain1,ytest1=train_test_split(x1,y,random_state=1,test_size=0.3)\n",
    "xtrain2,xtest2,ytrain2,ytest2=train_test_split(x2,y,random_state=1,test_size=0.3)\n",
    "xtrain3,xtest3,ytrain3,ytest3=train_test_split(x3,y,random_state=1,test_size=0.3)\n",
    "xtrain4,xtest4,ytrain4,ytest4=train_test_split(x4,y,random_state=1,test_size=0.3)"
   ]
  },
  {
   "cell_type": "code",
   "execution_count": 69,
   "id": "29b3f384-a1a2-47f7-bb75-5eb9c2e1f383",
   "metadata": {},
   "outputs": [],
   "source": [
    "nnmodel=BernoulliNB()\n",
    "mnmodel=MultinomialNB()\n",
    "nnmodel1=BernoulliNB()\n",
    "mnmodel1=MultinomialNB()"
   ]
  },
  {
   "cell_type": "code",
   "execution_count": 70,
   "id": "725f17ca-418d-4e1e-a670-7758b39ed494",
   "metadata": {},
   "outputs": [
    {
     "name": "stderr",
     "output_type": "stream",
     "text": [
      "C:\\ProgramData\\Anaconda3\\lib\\site-packages\\sklearn\\utils\\validation.py:63: DataConversionWarning: A column-vector y was passed when a 1d array was expected. Please change the shape of y to (n_samples, ), for example using ravel().\n",
      "  return f(*args, **kwargs)\n",
      "C:\\ProgramData\\Anaconda3\\lib\\site-packages\\sklearn\\utils\\validation.py:63: DataConversionWarning: A column-vector y was passed when a 1d array was expected. Please change the shape of y to (n_samples, ), for example using ravel().\n",
      "  return f(*args, **kwargs)\n"
     ]
    },
    {
     "data": {
      "text/plain": [
       "BernoulliNB()"
      ]
     },
     "execution_count": 70,
     "metadata": {},
     "output_type": "execute_result"
    }
   ],
   "source": [
    "nnmodel.fit(xtrain1,ytrain1)\n",
    "nnmodel1.fit(xtrain3,ytrain3)"
   ]
  },
  {
   "cell_type": "code",
   "execution_count": 71,
   "id": "cf6a69de-5e82-4c83-be2e-49f5476009d6",
   "metadata": {},
   "outputs": [
    {
     "name": "stderr",
     "output_type": "stream",
     "text": [
      "C:\\ProgramData\\Anaconda3\\lib\\site-packages\\sklearn\\utils\\validation.py:63: DataConversionWarning: A column-vector y was passed when a 1d array was expected. Please change the shape of y to (n_samples, ), for example using ravel().\n",
      "  return f(*args, **kwargs)\n",
      "C:\\ProgramData\\Anaconda3\\lib\\site-packages\\sklearn\\utils\\validation.py:63: DataConversionWarning: A column-vector y was passed when a 1d array was expected. Please change the shape of y to (n_samples, ), for example using ravel().\n",
      "  return f(*args, **kwargs)\n"
     ]
    },
    {
     "data": {
      "text/plain": [
       "MultinomialNB()"
      ]
     },
     "execution_count": 71,
     "metadata": {},
     "output_type": "execute_result"
    }
   ],
   "source": [
    "mnmodel.fit(xtrain2,ytrain2)\n",
    "mnmodel1.fit(xtrain4,ytrain4)"
   ]
  },
  {
   "cell_type": "code",
   "execution_count": 72,
   "id": "71b83a8d-119e-4bf4-81bc-85cfa7b3c239",
   "metadata": {},
   "outputs": [],
   "source": [
    "pred1=nnmodel.predict(xtest1)\n",
    "pred2=mnmodel.predict(xtest2)\n",
    "pred3=nnmodel1.predict(xtest3)\n",
    "pred4=mnmodel1.predict(xtest4)"
   ]
  },
  {
   "cell_type": "code",
   "execution_count": 73,
   "id": "c35b86b5-921f-4f3d-9405-b99d9e08aa8b",
   "metadata": {},
   "outputs": [
    {
     "name": "stdout",
     "output_type": "stream",
     "text": [
      "Accuracy using default stop words..BernoulliNB:\n",
      " 0.76\n",
      "Accuracy using custom stop words..BernoulliNB:\n",
      " 0.74\n"
     ]
    }
   ],
   "source": [
    "from sklearn.metrics import accuracy_score\n",
    "print(\"Accuracy using default stop words..BernoulliNB:\\n\",accuracy_score(ytest1,pred1))\n",
    "print(\"Accuracy using custom stop words..BernoulliNB:\\n\",accuracy_score(ytest3,pred3))"
   ]
  },
  {
   "cell_type": "code",
   "execution_count": 74,
   "id": "dade11a3-66f6-4075-96fd-cc4cd61b277e",
   "metadata": {},
   "outputs": [
    {
     "name": "stdout",
     "output_type": "stream",
     "text": [
      "Accuracy using default stop words..MultinomialNB:\n",
      " 0.8533333333333334\n",
      "Accuracy using custom stop words..MultinomialNB:\n",
      " 0.88\n"
     ]
    }
   ],
   "source": [
    "print(\"Accuracy using default stop words..MultinomialNB:\\n\",accuracy_score(ytest2,pred2))\n",
    "print(\"Accuracy using custom stop words..MultinomialNB:\\n\",accuracy_score(ytest4,pred4))"
   ]
  },
  {
   "cell_type": "code",
   "execution_count": 75,
   "id": "fa86d6fc",
   "metadata": {},
   "outputs": [
    {
     "name": "stderr",
     "output_type": "stream",
     "text": [
      "C:\\ProgramData\\Anaconda3\\lib\\site-packages\\sklearn\\utils\\validation.py:63: DataConversionWarning: A column-vector y was passed when a 1d array was expected. Please change the shape of y to (n_samples, ), for example using ravel().\n",
      "  return f(*args, **kwargs)\n"
     ]
    },
    {
     "data": {
      "text/plain": [
       "Pipeline(steps=[('tfidfvectorizer', TfidfVectorizer(stop_words='english')),\n",
       "                ('multinomialnb', MultinomialNB())])"
      ]
     },
     "execution_count": 75,
     "metadata": {},
     "output_type": "execute_result"
    }
   ],
   "source": [
    "from sklearn.pipeline import make_pipeline\n",
    "from sklearn.feature_extraction.text import TfidfVectorizer\n",
    "xtrain,xtest,ytrain,ytest=train_test_split(x,y,random_state=21,test_size=0.3)\n",
    "model=make_pipeline(TfidfVectorizer(stop_words=\"english\"),MultinomialNB())\n",
    "model.fit(xtrain,ytrain)"
   ]
  },
  {
   "cell_type": "code",
   "execution_count": 76,
   "id": "3df31db4",
   "metadata": {},
   "outputs": [
    {
     "name": "stderr",
     "output_type": "stream",
     "text": [
      "C:\\ProgramData\\Anaconda3\\lib\\site-packages\\sklearn\\utils\\validation.py:63: DataConversionWarning: A column-vector y was passed when a 1d array was expected. Please change the shape of y to (n_samples, ), for example using ravel().\n",
      "  return f(*args, **kwargs)\n"
     ]
    },
    {
     "data": {
      "text/plain": [
       "Pipeline(steps=[('tfidfvectorizer',\n",
       "                 TfidfVectorizer(stop_words=['the', 'is', 'or', 'this', 'can',\n",
       "                                             'that', ',', '.', 'could', 'do',\n",
       "                                             'does', 'x'])),\n",
       "                ('multinomialnb', MultinomialNB())])"
      ]
     },
     "execution_count": 76,
     "metadata": {},
     "output_type": "execute_result"
    }
   ],
   "source": [
    "model1=make_pipeline(TfidfVectorizer(stop_words=custom),MultinomialNB())\n",
    "model1.fit(xtrain,ytrain)"
   ]
  },
  {
   "cell_type": "code",
   "execution_count": 77,
   "id": "af3c6483",
   "metadata": {},
   "outputs": [
    {
     "name": "stdout",
     "output_type": "stream",
     "text": [
      "Accuracy_Score using default stop words:\n",
      " 0.8733333333333333\n",
      "Accuracy_Score using custom stop words:\n",
      " 0.8533333333333334\n"
     ]
    }
   ],
   "source": [
    "pred5=model.predict(xtest)\n",
    "pred6=model1.predict(xtest)\n",
    "print(\"Accuracy_Score using default stop words:\\n\",accuracy_score(ytest,pred5))\n",
    "print(\"Accuracy_Score using custom stop words:\\n\",accuracy_score(ytest,pred6))"
   ]
  },
  {
   "cell_type": "markdown",
   "id": "714a6d28",
   "metadata": {},
   "source": [
    "# To conclude:The highest accuracy score 0.8733 using MultinomialNB with Tfidf vectorizor removing the default stop_words from the model as compare to other vectorizer technique. "
   ]
  },
  {
   "cell_type": "code",
   "execution_count": 78,
   "id": "483c0826",
   "metadata": {},
   "outputs": [
    {
     "name": "stdout",
     "output_type": "stream",
     "text": [
      "Confusion metrics using default stop words:\n",
      " [[73  0  0  0]\n",
      " [10 28  0  1]\n",
      " [ 0  0  0  1]\n",
      " [ 4  3  0 30]]\n",
      "Confusion metrics using custom stop words:\n",
      " [[73  0  0  0]\n",
      " [11 27  0  1]\n",
      " [ 0  0  0  1]\n",
      " [ 6  3  0 28]]\n"
     ]
    }
   ],
   "source": [
    "from sklearn.metrics import confusion_matrix\n",
    "print(\"Confusion metrics using default stop words:\\n\",confusion_matrix(ytest,pred5))\n",
    "print(\"Confusion metrics using custom stop words:\\n\",confusion_matrix(ytest,pred6))"
   ]
  },
  {
   "cell_type": "markdown",
   "id": "56c5f8da",
   "metadata": {},
   "source": [
    "# Saving the model"
   ]
  },
  {
   "cell_type": "code",
   "execution_count": 79,
   "id": "ebb2c4c9",
   "metadata": {},
   "outputs": [
    {
     "data": {
      "text/plain": [
       "['MultinomialNB_model_using TFIDF vectorizer']"
      ]
     },
     "execution_count": 79,
     "metadata": {},
     "output_type": "execute_result"
    }
   ],
   "source": [
    "import joblib\n",
    "joblib.dump(model,\"MultinomialNB_model_using TFIDF vectorizer\")"
   ]
  },
  {
   "cell_type": "code",
   "execution_count": 80,
   "id": "bd90effe",
   "metadata": {},
   "outputs": [],
   "source": [
    "loaded_model = joblib.load('MultinomialNB_model_using TFIDF vectorizer')"
   ]
  },
  {
   "cell_type": "code",
   "execution_count": 88,
   "id": "a04389f3",
   "metadata": {},
   "outputs": [
    {
     "name": "stdout",
     "output_type": "stream",
     "text": [
      "Output:\n",
      " ['Books']\n"
     ]
    }
   ],
   "source": [
    "new_text=[\"Transform your home with quality products from Home Essentials Store. Happy shopping!\"]\n",
    "prediction=loaded_model.predict(new_text)\n",
    "print(\"Output:\\n\",prediction)"
   ]
  }
 ],
 "metadata": {
  "kernelspec": {
   "display_name": "Python 3",
   "language": "python",
   "name": "python3"
  },
  "language_info": {
   "codemirror_mode": {
    "name": "ipython",
    "version": 3
   },
   "file_extension": ".py",
   "mimetype": "text/x-python",
   "name": "python",
   "nbconvert_exporter": "python",
   "pygments_lexer": "ipython3",
   "version": "3.8.8"
  }
 },
 "nbformat": 4,
 "nbformat_minor": 5
}
